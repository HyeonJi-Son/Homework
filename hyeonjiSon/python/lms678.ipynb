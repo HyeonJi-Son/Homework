{
 "cells": [
  {
   "cell_type": "code",
   "execution_count": null,
   "id": "31cfc632",
   "metadata": {},
   "outputs": [],
   "source": [
    "#문자열 메서드\n",
    "#내장함수\n",
    "  #\n",
    "#외장함수\n",
    "  #"
   ]
  },
  {
   "cell_type": "code",
   "execution_count": 22,
   "id": "e25a9c0e",
   "metadata": {},
   "outputs": [
    {
     "name": "stdout",
     "output_type": "stream",
     "text": [
      "14\n",
      "Www.google.com\n",
      "WWW.GOOGLE.COM\n",
      "www.google.com\n"
     ]
    }
   ],
   "source": [
    "text = \"www.GOOGLE.com\"\n",
    "\n",
    "#파이썬의 내장함수 len = length의 약자로 길이를 나타냄\n",
    "print(len(text))\n",
    "\n",
    "txtCapitalize = text.capitalize() #문자열 가장 첫번째 글자를 대문자로 변환해줌\n",
    "print(txtCapitalize)\n",
    "\n",
    "txtUpper = text.upper() #문자열 전체를 대문자로 변경해줌\n",
    "txtLower = text.lower() #문자열 전체를 소문자로 변경\n",
    "print(txtUpper)\n",
    "print(txtLower)"
   ]
  },
  {
   "cell_type": "code",
   "execution_count": 15,
   "id": "f605dc76",
   "metadata": {},
   "outputs": [
    {
     "name": "stdout",
     "output_type": "stream",
     "text": [
      "2\n",
      "1\n",
      "7\n",
      "4\n"
     ]
    }
   ],
   "source": [
    "#문자열에서 검색을 하는 기능 count, find, index 메서드를 사용할 수 있다.\n",
    "\n",
    "gCnt = text.count('G') @찾는 문자의 갯수를 반환\n",
    "goCnt = text.count('GO')\n",
    "print(gCnt)\n",
    "print(goCnt)\n",
    "\n",
    "gFind = text.find('G', 5) # G의 index 번호, 즉 위치를 반환해준다.\n",
    "                     #, 5 를 넣어주면 5번 index 부터의 G를 찾아준다.\n",
    "print(gFind)\n",
    "\n",
    "gIdx = text.index('G') #찾는 문자의 인덱스를 반환\n",
    "print(gIdx)\n",
    "\n",
    "#find와 index는 찾는 요소가 없는 경우 차이가 보인다.\n",
    "   #find는 찾는 요소가 없는 경우 -1이라는 결과를 반환\n",
    "      #따라서 검색해야하는 문자가 있는지 없는지 모르는 경우에는 find를 사용해야 에러를 피할 수 있다.\n",
    "   #index는 Value Error가 발생하게 된다."
   ]
  },
  {
   "cell_type": "code",
   "execution_count": 19,
   "id": "c3c1c738",
   "metadata": {},
   "outputs": [
    {
     "name": "stdout",
     "output_type": "stream",
     "text": [
      "www.NAVER.com\n",
      "['www.GOOGLE.com']\n",
      "['www', 'GOOGLE', 'com']\n",
      "['www.G', 'GLE.com']\n"
     ]
    }
   ],
   "source": [
    "txtNaver = text.replace(\"GOOGLE\", \"NAVER\") #(바꾸고 싶은 내용, 치환할 내용)\n",
    "print(txtNaver)\n",
    "\n",
    "print(text.split())\n",
    "print(text.split('.')) #점이 들어가는 자리마다 ,가 바뀌어서 text는 하나의 문자열이 아닌 각각의 문자열로 구분되었다.\n",
    "print(text.split('OO'))"
   ]
  },
  {
   "cell_type": "code",
   "execution_count": 21,
   "id": "ae48b118",
   "metadata": {},
   "outputs": [
    {
     "name": "stdout",
     "output_type": "stream",
     "text": [
      "       www.google.com        \n",
      "www.google.com\n",
      "w w w w w w w\n"
     ]
    }
   ],
   "source": [
    "#strip 좌우 공백을 없애주는 메서드\n",
    "\n",
    "txt = \"       www.google.com        \"\n",
    "print(txt)\n",
    "\n",
    "stp = (txt.strip())\n",
    "print(stp) #앞뒤의 공백이 모두 사라져서 출력되었다.\n",
    "\n",
    "txt2 = \"w w w w w w w \"\n",
    "print(txt2.strip()) #문자 중간중간에 있는 공백은 사라지지 않는다! 오로지 문자 양 옆의 공백만!"
   ]
  },
  {
   "cell_type": "code",
   "execution_count": null,
   "id": "b8ea0caa",
   "metadata": {},
   "outputs": [],
   "source": []
  },
  {
   "cell_type": "code",
   "execution_count": null,
   "id": "0f47a8f3",
   "metadata": {},
   "outputs": [],
   "source": []
  },
  {
   "cell_type": "code",
   "execution_count": null,
   "id": "defe0b79",
   "metadata": {},
   "outputs": [],
   "source": []
  },
  {
   "cell_type": "code",
   "execution_count": null,
   "id": "847b24e3",
   "metadata": {},
   "outputs": [],
   "source": []
  },
  {
   "cell_type": "code",
   "execution_count": null,
   "id": "5b9871cc",
   "metadata": {},
   "outputs": [],
   "source": []
  },
  {
   "cell_type": "code",
   "execution_count": null,
   "id": "96facfcc",
   "metadata": {},
   "outputs": [],
   "source": []
  },
  {
   "cell_type": "code",
   "execution_count": null,
   "id": "2a845b67",
   "metadata": {},
   "outputs": [],
   "source": []
  },
  {
   "cell_type": "code",
   "execution_count": null,
   "id": "656e6f12",
   "metadata": {},
   "outputs": [],
   "source": []
  },
  {
   "cell_type": "code",
   "execution_count": null,
   "id": "fbf7e679",
   "metadata": {},
   "outputs": [],
   "source": []
  },
  {
   "cell_type": "code",
   "execution_count": null,
   "id": "8ac9e7fb",
   "metadata": {},
   "outputs": [],
   "source": []
  }
 ],
 "metadata": {
  "kernelspec": {
   "display_name": "Python 3 (ipykernel)",
   "language": "python",
   "name": "python3"
  },
  "language_info": {
   "codemirror_mode": {
    "name": "ipython",
    "version": 3
   },
   "file_extension": ".py",
   "mimetype": "text/x-python",
   "name": "python",
   "nbconvert_exporter": "python",
   "pygments_lexer": "ipython3",
   "version": "3.9.12"
  }
 },
 "nbformat": 4,
 "nbformat_minor": 5
}
