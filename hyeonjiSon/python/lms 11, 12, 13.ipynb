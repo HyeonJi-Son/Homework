{
 "cells": [
  {
   "cell_type": "code",
   "execution_count": 8,
   "id": "1f5cd276",
   "metadata": {},
   "outputs": [
    {
     "name": "stdout",
     "output_type": "stream",
     "text": [
      "1\n",
      "2\n",
      "3\n",
      "4\n",
      "5\n",
      "6\n",
      "7\n",
      "8\n",
      "9\n",
      "10\n",
      "값이 10이상이므로 종료합니다.\n"
     ]
    }
   ],
   "source": [
    "#for문 & while문 = 반복문: 코드를 계속해서 반복 시키는 구문이다.\n",
    "\n",
    "\n",
    "i = 0\n",
    "num = 10\n",
    "\n",
    "while i < num:\n",
    "    i = i + 1\n",
    "    print(i)\n",
    "else:\n",
    "    print(\"값이 {}이상이므로 종료합니다.\".format(num))\n",
    "\n",
    "#while 조건식:\n",
    "    #조건식이 참일동안 실행할 문장"
   ]
  },
  {
   "cell_type": "code",
   "execution_count": 7,
   "id": "cf6107f3",
   "metadata": {},
   "outputs": [
    {
     "name": "stdout",
     "output_type": "stream",
     "text": [
      "1\n"
     ]
    }
   ],
   "source": [
    "i = 0\n",
    "num = 10\n",
    "\n",
    "if i < num:\n",
    "    i = i + 1\n",
    "    print(i)"
   ]
  },
  {
   "cell_type": "code",
   "execution_count": 14,
   "id": "10750f3c",
   "metadata": {},
   "outputs": [
    {
     "name": "stdout",
     "output_type": "stream",
     "text": [
      "['사과', '키위', '바나나', '사과', '바나나', '망고']\n",
      "빼낼 과일을 입력해주세요 >사과\n",
      "['키위', '바나나', '바나나', '망고']\n",
      "사과를 모두 제거했습니다.\n"
     ]
    }
   ],
   "source": [
    "fruits = [\"사과\", \"키위\", \"바나나\", \"사과\", \"바나나\", \"망고\"]\n",
    "print(fruits)\n",
    "fruit = input(\"빼낼 과일을 입력해주세요 >\")\n",
    "\n",
    "while fruit in fruits:\n",
    "    fruits.remove(fruit)\n",
    "    \n",
    "print(fruits)\n",
    "print(\"{}를 모두 제거했습니다.\".format(fruit))"
   ]
  },
  {
   "cell_type": "code",
   "execution_count": 30,
   "id": "c76bb4f4",
   "metadata": {},
   "outputs": [
    {
     "name": "stdout",
     "output_type": "stream",
     "text": [
      "최소값 입력1\n",
      "최대값 입력10\n",
      "1부터 10까지의 짝수는 [2, 4, 6, 8, 10]입니다.\n",
      "1부터 10까지의 홀수는 [1, 3, 5, 7, 9]입니다.\n"
     ]
    }
   ],
   "source": [
    "#최소값 최대값 입력\n",
    "\n",
    "min = int(input(\"최소값 입력\"))\n",
    "max = int(input(\"최대값 입력\"))\n",
    "\n",
    "#홀수, 짝수 리스트 생성\n",
    "oddList = []\n",
    "evenList = []\n",
    "\n",
    "#제어변수에 최소값 할당\n",
    "num = min\n",
    "\n",
    "#최소값이 최대값보다 작을 경우에 실행\n",
    "\n",
    "if min < max:\n",
    "    while num <= max: #제어변수가 최댓값이 될 때까지 반복 실행\n",
    "        if num %2 == 0: #짝수판별\n",
    "            evenList.append(num) #짝수를 짝수 리스트에 요소로 추가\n",
    "        else: #홀수 판별\n",
    "            oddList.append(num) #홀수를 홀수 리스트에 요소로 추가\n",
    "        num += 1\n",
    "    print(\"{}부터 {}까지의 짝수는 {}입니다.\".format(min, max, evenList))\n",
    "    print(\"{}부터 {}까지의 홀수는 {}입니다.\".format(min, max, oddList))\n",
    "else:#최소값이 최대값보다 크거나 같을 경우 실행\n",
    "    print(\"최대값 {}이 최소값{} 보다 크지 않습니다.\".format(max, min))"
   ]
  },
  {
   "cell_type": "code",
   "execution_count": 29,
   "id": "0f964e60",
   "metadata": {},
   "outputs": [
    {
     "name": "stdout",
     "output_type": "stream",
     "text": [
      "[1, 2, 3, 4, 5, 6, 7, 8, 9]\n",
      "[-10, -9, -8, -7, -6, -5, -4, -3, -2, -1]\n",
      "[-10, -8, -6, -4, -2]\n",
      "[-10, -9, -8, -7, -6, -5, -4, -3, -2, -1, 0, 1, 2, 3, 4]\n"
     ]
    }
   ],
   "source": [
    "numbers = list(range(1, 10)) #시작점 n 부터 끝점 m 까지 숫자를 표현해주며 끝점은 표현되는 숫자에 포함되지 않음\n",
    "print(numbers)\n",
    "\n",
    "mNumbers = list(range(-10, 0)) #음수로 만드는 것도 가능\n",
    "print(mNumbers)\n",
    "\n",
    "sNumbers = list(range(-10, 0, 2)) #step도 적용됨\n",
    "print(sNumbers)\n",
    "\n",
    "fNumbers = list(range(-10, int(10/2))) #정수형만 사용 가능하여 float을 그냥 사용하는 것은 불가능. int 형으로 변환해주어야 함. \n",
    "print(fNumbers)"
   ]
  },
  {
   "cell_type": "code",
   "execution_count": 2,
   "id": "0e300e91",
   "metadata": {},
   "outputs": [
    {
     "name": "stdout",
     "output_type": "stream",
     "text": [
      "1\n",
      "2\n",
      "3\n",
      "4\n",
      "5\n",
      "6\n",
      "7\n",
      "8\n",
      "9\n",
      "10\n",
      "과일 바구니에 사과가 들어있습니다.\n",
      "과일 바구니에 딸기가 들어있습니다.\n",
      "과일 바구니에 바나나가 들어있습니다.\n"
     ]
    }
   ],
   "source": [
    "#for문\n",
    "\n",
    "for i in range(1, 10+1): #for 변수 in 나열가능한 문자:\n",
    "    print(i)\n",
    "    \n",
    "fruits = [\"사과\", \"딸기\", \"바나나\"]\n",
    "for i in fruits:\n",
    "    print(\"과일 바구니에 {}가 들어있습니다.\".format(i))"
   ]
  },
  {
   "cell_type": "code",
   "execution_count": 7,
   "id": "4e5aede9",
   "metadata": {},
   "outputs": [
    {
     "name": "stdout",
     "output_type": "stream",
     "text": [
      "0 + 3 = \n",
      "3 + 6 = \n",
      "9 + 9 = \n",
      "18 + 12 = \n",
      "30 + 15 = \n",
      "45 + 18 = \n",
      "63 + 21 = \n",
      "84 + 24 = \n",
      "108 + 27 = \n",
      "135 + 30 = \n",
      "165\n"
     ]
    }
   ],
   "source": [
    "#1부터 30까지의 수 중에서 3의 배수들의 합을 구하시오.\n",
    "#3의 배수는 어떻게 구하면 될까요?\n",
    "#짝수 % 2 == 0\n",
    "# / 2 == 2의 배수와 같다.\n",
    "\n",
    "sum = 0\n",
    "\n",
    "for i in range(1, 30+1):\n",
    "    if i % 3 == 0:\n",
    "        print(\"{} + {} = \".format(sum, i), end = \"\\n\")\n",
    "        sum += i\n",
    "print(sum)"
   ]
  },
  {
   "cell_type": "code",
   "execution_count": 8,
   "id": "97acbedd",
   "metadata": {},
   "outputs": [
    {
     "name": "stdout",
     "output_type": "stream",
     "text": [
      "(0, '사과')\n",
      "(1, '딸기')\n",
      "(2, '바나나')\n"
     ]
    }
   ],
   "source": [
    "for i in enumerate(fruits): #enumerate :인덱스와 함께 사용해야할 때 유용함\n",
    "    print(i)"
   ]
  },
  {
   "cell_type": "code",
   "execution_count": 10,
   "id": "4cc8c9e2",
   "metadata": {},
   "outputs": [
    {
     "name": "stdout",
     "output_type": "stream",
     "text": [
      "1\n",
      "1\n",
      "2\n",
      "3\n",
      "a\n",
      "b\n",
      "d\n"
     ]
    }
   ],
   "source": [
    "#이차원 리스트를 확인할 수 있는 중첩 for문\n",
    "list2nd = [[1, 2, 3], [\"a\", \"b\", \"d\"]]\n",
    "\n",
    "print(list2nd[0][0]) #첫번째 리스트의 첫번째 요소를 출력\n",
    "\n",
    "for i in list2nd:\n",
    "    for j in i:\n",
    "        print(j)"
   ]
  },
  {
   "cell_type": "code",
   "execution_count": 11,
   "id": "92532649",
   "metadata": {},
   "outputs": [
    {
     "name": "stdout",
     "output_type": "stream",
     "text": [
      "첫번째 for문의 반복 1번, 두번째 for문의 반복 1번\n",
      "첫번째 for문의 반복 1번, 두번째 for문의 반복 2번\n",
      "첫번째 for문의 반복 2번, 두번째 for문의 반복 1번\n",
      "첫번째 for문의 반복 2번, 두번째 for문의 반복 2번\n"
     ]
    }
   ],
   "source": [
    "for i in range(1, 3):\n",
    "    for j in range(1, 3):\n",
    "        print(\"첫번째 for문의 반복 {}번, 두번째 for문의 반복 {}번\".format(i, j))"
   ]
  },
  {
   "cell_type": "code",
   "execution_count": 14,
   "id": "3032056f",
   "metadata": {},
   "outputs": [
    {
     "name": "stdout",
     "output_type": "stream",
     "text": [
      "2 X 1 = 2\t2 X 2 = 4\t2 X 3 = 6\t2 X 4 = 8\t2 X 5 = 10\t2 X 6 = 12\t2 X 7 = 14\t2 X 8 = 16\t2 X 9 = 18\t\n",
      "3 X 1 = 3\t3 X 2 = 6\t3 X 3 = 9\t3 X 4 = 12\t3 X 5 = 15\t3 X 6 = 18\t3 X 7 = 21\t3 X 8 = 24\t3 X 9 = 27\t\n",
      "4 X 1 = 4\t4 X 2 = 8\t4 X 3 = 12\t4 X 4 = 16\t4 X 5 = 20\t4 X 6 = 24\t4 X 7 = 28\t4 X 8 = 32\t4 X 9 = 36\t\n",
      "5 X 1 = 5\t5 X 2 = 10\t5 X 3 = 15\t5 X 4 = 20\t5 X 5 = 25\t5 X 6 = 30\t5 X 7 = 35\t5 X 8 = 40\t5 X 9 = 45\t\n",
      "6 X 1 = 6\t6 X 2 = 12\t6 X 3 = 18\t6 X 4 = 24\t6 X 5 = 30\t6 X 6 = 36\t6 X 7 = 42\t6 X 8 = 48\t6 X 9 = 54\t\n",
      "7 X 1 = 7\t7 X 2 = 14\t7 X 3 = 21\t7 X 4 = 28\t7 X 5 = 35\t7 X 6 = 42\t7 X 7 = 49\t7 X 8 = 56\t7 X 9 = 63\t\n",
      "8 X 1 = 8\t8 X 2 = 16\t8 X 3 = 24\t8 X 4 = 32\t8 X 5 = 40\t8 X 6 = 48\t8 X 7 = 56\t8 X 8 = 64\t8 X 9 = 72\t\n",
      "9 X 1 = 9\t9 X 2 = 18\t9 X 3 = 27\t9 X 4 = 36\t9 X 5 = 45\t9 X 6 = 54\t9 X 7 = 63\t9 X 8 = 72\t9 X 9 = 81\t\n"
     ]
    }
   ],
   "source": [
    "#중첩 for문 이해를 위한 구구단 만들어보기\n",
    "    #2단부터 9단까지 8번 반복\n",
    "    #1부터 9까지 9번 반복\n",
    "    \n",
    "for i in range(2, 9+1):\n",
    "    for j in range(1, 9+1):\n",
    "        print(f\"{i} X {j} = {i*j}\", end = \"\\t\")\n",
    "    print()\n",
    "    "
   ]
  },
  {
   "cell_type": "code",
   "execution_count": 18,
   "id": "10c97069",
   "metadata": {},
   "outputs": [
    {
     "name": "stdout",
     "output_type": "stream",
     "text": [
      "i의 1번째 반복입니다.\n",
      "j의 1번째 반복입니다.\n",
      "k의 1번째 반복입니다.\n",
      "1\n",
      "k의 2번째 반복입니다.\n",
      "2\n",
      "k의 3번째 반복입니다.\n",
      "3\n",
      "j의 2번째 반복입니다.\n",
      "k의 4번째 반복입니다.\n",
      "4\n",
      "k의 5번째 반복입니다.\n",
      "5\n",
      "k의 6번째 반복입니다.\n",
      "6\n",
      "j의 3번째 반복입니다.\n",
      "k의 7번째 반복입니다.\n",
      "7\n",
      "k의 8번째 반복입니다.\n",
      "8\n",
      "k의 9번째 반복입니다.\n",
      "9\n",
      "j의 4번째 반복입니다.\n",
      "k의 10번째 반복입니다.\n",
      "10\n",
      "k의 11번째 반복입니다.\n",
      "11\n",
      "k의 12번째 반복입니다.\n",
      "12\n",
      "i는 1번 반복, j는 4번 반복, k는 12번 반복\n"
     ]
    }
   ],
   "source": [
    "list3rd = [[[1, 2, 3], [4, 5, 6], [7, 8, 9], [10, 11, 12]]]\n",
    "\n",
    "cnt1 = 0\n",
    "cnt2 = 0\n",
    "cnt3 = 0\n",
    "for i in list3rd:\n",
    "    cnt1 += 1\n",
    "    print(\"i의 {}번째 반복입니다.\".format(cnt1))\n",
    "    for j in i:\n",
    "        cnt2 += 1\n",
    "        print(\"j의 {}번째 반복입니다.\".format(cnt2))\n",
    "        for k in j:\n",
    "            cnt3 += 1\n",
    "            print(\"k의 {}번째 반복입니다.\".format(cnt3))\n",
    "            print(k)\n",
    "print('i는 {}번 반복, j는 {}번 반복, k는 {}번 반복'.format(cnt1, cnt2, cnt3))\n"
   ]
  },
  {
   "cell_type": "code",
   "execution_count": null,
   "id": "3b935228",
   "metadata": {},
   "outputs": [],
   "source": [
    "#break :반복문을 중단\n",
    "#continue :반복문을 생략"
   ]
  },
  {
   "cell_type": "code",
   "execution_count": 21,
   "id": "fd60b09e",
   "metadata": {},
   "outputs": [
    {
     "name": "stdout",
     "output_type": "stream",
     "text": [
      "0번째 반복입니다.\n",
      "1번째 반복입니다.\n",
      "2번째 반복입니다.\n",
      "3번째 반복입니다.\n",
      "4번째 반복입니다.\n",
      "5번째 반복입니다.\n",
      "6번째 반복입니다.\n",
      "7번째 반복입니다.\n",
      "8번째 반복입니다.\n",
      "9번째 반복입니다.\n",
      "10번째 반복입니다.\n"
     ]
    }
   ],
   "source": [
    "i = 0\n",
    "\n",
    "while True:\n",
    "    print(\"{}번째 반복입니다.\".format(i))\n",
    "    i += 1\n",
    "    if i > 10:\n",
    "        break"
   ]
  },
  {
   "cell_type": "code",
   "execution_count": 25,
   "id": "04f2d5a6",
   "metadata": {},
   "outputs": [
    {
     "name": "stdout",
     "output_type": "stream",
     "text": [
      "정수를 입력해주세요(0입력시 종료) >10\n",
      "현재 정수의 합은 10입니다.\n",
      "정수를 입력해주세요(0입력시 종료) >3\n",
      "현재 정수의 합은 13입니다.\n",
      "정수를 입력해주세요(0입력시 종료) >0\n"
     ]
    }
   ],
   "source": [
    "sum = 0\n",
    "\n",
    "while True:\n",
    "    num = int(input(\"정수를 입력해주세요(0입력시 종료) >\"))\n",
    "    if num == 0:\n",
    "        break\n",
    "    sum += num\n",
    "    print(\"현재 정수의 합은 {}입니다.\".format(sum))"
   ]
  },
  {
   "cell_type": "code",
   "execution_count": 26,
   "id": "1dcbe8d4",
   "metadata": {},
   "outputs": [
    {
     "name": "stdout",
     "output_type": "stream",
     "text": [
      "200은 200이상의 숫자입니다.\n",
      "400은 200이상의 숫자입니다.\n"
     ]
    }
   ],
   "source": [
    "numbers = [10, 200, 30, 400, 50]\n",
    "\n",
    "for i in numbers:\n",
    "    if i < 200:\n",
    "        continue # 200이상의 숫자가 아니면 생략된 결과가 출력된다.\n",
    "    print(\"{}은 200이상의 숫자입니다.\".format(i))"
   ]
  },
  {
   "cell_type": "code",
   "execution_count": 29,
   "id": "6fcd9706",
   "metadata": {},
   "outputs": [
    {
     "name": "stdout",
     "output_type": "stream",
     "text": [
      "[1, 2, 3]\n",
      "1\n",
      "[10, 20, 30]\n",
      "10\n"
     ]
    }
   ],
   "source": [
    "numbers = [[1, 2, 3], [10, 20, 30]]\n",
    "\n",
    "for i in numbers:\n",
    "    print(i)\n",
    "    for j in i:\n",
    "        print(j)\n",
    "        break"
   ]
  },
  {
   "cell_type": "code",
   "execution_count": 36,
   "id": "044bf3d4",
   "metadata": {},
   "outputs": [
    {
     "name": "stdout",
     "output_type": "stream",
     "text": [
      "{'아이스 아메리카노': 3000, '아이스 라떼': 4000, '아이스크림': 8000}\n",
      "{'아메리카노': 2500, '라떼': 3500}\n"
     ]
    }
   ],
   "source": [
    "#key = 제품의 이름, value = 가격\n",
    "menu = {\"아이스 아메리카노\" : 3000, \"아메리카노\" : 2500, \"아이스 라떼\" : 4000, \"라떼\" : 3500, \"아이스크림\" : 8000}\n",
    "\n",
    "ice = {}\n",
    "hot = {}\n",
    "\n",
    "for i, j in menu.items():\n",
    "    if i[0:3] == \"아이스\": #메뉴 중 아이스가 들어간 것의 키:value만 출력하도록 한다.\n",
    "        ice[i] = j\n",
    "    else:\n",
    "        hot[i] = j\n",
    "print(ice)\n",
    "print(hot)"
   ]
  },
  {
   "cell_type": "code",
   "execution_count": null,
   "id": "4ebd6188",
   "metadata": {},
   "outputs": [],
   "source": []
  },
  {
   "cell_type": "code",
   "execution_count": null,
   "id": "153637c1",
   "metadata": {},
   "outputs": [],
   "source": []
  },
  {
   "cell_type": "code",
   "execution_count": null,
   "id": "ee63be42",
   "metadata": {},
   "outputs": [],
   "source": []
  }
 ],
 "metadata": {
  "kernelspec": {
   "display_name": "Python 3 (ipykernel)",
   "language": "python",
   "name": "python3"
  },
  "language_info": {
   "codemirror_mode": {
    "name": "ipython",
    "version": 3
   },
   "file_extension": ".py",
   "mimetype": "text/x-python",
   "name": "python",
   "nbconvert_exporter": "python",
   "pygments_lexer": "ipython3",
   "version": "3.9.12"
  }
 },
 "nbformat": 4,
 "nbformat_minor": 5
}
