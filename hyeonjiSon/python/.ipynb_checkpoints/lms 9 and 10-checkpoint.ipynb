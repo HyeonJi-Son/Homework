{
 "cells": [
  {
   "cell_type": "code",
   "execution_count": 4,
   "id": "f21ab99b",
   "metadata": {},
   "outputs": [
    {
     "name": "stdout",
     "output_type": "stream",
     "text": [
      "성을 입력해주세요 >김\n",
      "이름을 입력해주세요 >개똥\n",
      "김개똥\n"
     ]
    }
   ],
   "source": [
    "#input 함수\n",
    "\n",
    "text = input(\"성을 입력해주세요 >\")\n",
    "text2 = input(\"이름을 입력해주세요 >\")\n",
    "\n",
    "print(text + text2)"
   ]
  },
  {
   "cell_type": "code",
   "execution_count": 7,
   "id": "6ec4d30c",
   "metadata": {
    "scrolled": true
   },
   "outputs": [
    {
     "name": "stdout",
     "output_type": "stream",
     "text": [
      "첫번째 정수를 입력해주세요 >50\n",
      "두번째 정수를 입력해주세요 >30\n",
      "5030\n",
      "<class 'str'>\n",
      "80\n"
     ]
    }
   ],
   "source": [
    "#두 개의 정수를 받아 더한 값이 나오게 하는 방법은?\n",
    "num = input(\"첫번째 정수를 입력해주세요 >\")\n",
    "num2 = input(\"두번째 정수를 입력해주세요 >\")\n",
    "\n",
    "print(num + num2)\n",
    "print(type(num + num2)) #기본적으로 String형이기 때문에 80이 아닌 5030이 나온다.\n",
    "print(int(num) + int(num2)) #형 변환을 해준다.\n",
    "\n",
    "#num = int(input(\"첫번째 정수를 입력해주세요 >\")) 처음부터 형변환을 해줄 수도 있음\n",
    "     #float등 다양한 자료형 사용 가능"
   ]
  },
  {
   "cell_type": "code",
   "execution_count": null,
   "id": "7d3b14d2",
   "metadata": {},
   "outputs": [],
   "source": [
    "#if문: 조건식이 참일 때 실행할 문장\n",
    "#else문: 조건식이 거짓일 때 실행할 문장\n",
    "\n",
    "if True: #if 조건식:\n",
    "    print(\"실행할 문장입니다.\") #조건식이 참일 경우에 실행할 문장\n",
    "#↑앞의 공백 (스페이스 네칸 or 들여쓰기)해준 후에 실행할 문장을 넣어준다면? -> 오류가 나게 된다.\n",
    "#tab키는 여러 환경에서 스페이스 몇칸으로 인식될지 알 수 없어 스페이스 네칸 넣어주는 것이 가장 안정적이다.\n",
    "#shift+tab 동시에 누르면 들여쓰기 사라짐"
   ]
  },
  {
   "cell_type": "code",
   "execution_count": 17,
   "id": "ef991eec",
   "metadata": {},
   "outputs": [
    {
     "name": "stdout",
     "output_type": "stream",
     "text": [
      "우산을 챙겨주세요.\n",
      "오늘의 공부시간을 입력해주세요 >4\n",
      "오늘은 파이썬 공부를 합시다.\n"
     ]
    }
   ],
   "source": [
    "weather  = \"비\"\n",
    "\n",
    "if weather == \"비\":\n",
    "    print(\"우산을 챙겨주세요.\")\n",
    "    \n",
    "studyTime = int(input(\"오늘의 공부시간을 입력해주세요 >\"))\n",
    "\n",
    "#만약에 오늘 공부할 시간이 3시간 이상이고 6시간 이하라면 파이썬 공부\n",
    "if 6 >= studyTime >= 3:\n",
    "    print(\"오늘은 파이썬 공부를 합시다.\")\n",
    "    \n",
    "#만약에 오늘 공부할 시간이 3시간 미만이라면 오늘은 놀자\n",
    "if studyTime < 3:\n",
    "    print(\"오늘은 놀자!\")\n"
   ]
  },
  {
   "cell_type": "code",
   "execution_count": 22,
   "id": "c84bb1f5",
   "metadata": {},
   "outputs": [
    {
     "name": "stdout",
     "output_type": "stream",
     "text": [
      "정수를 입력해주세요. >222\n",
      "입력하신 정수는 짝수 입니다.\n"
     ]
    }
   ],
   "source": [
    "odd = int(input(\"정수를 입력해주세요. >\"))\n",
    "\n",
    "if odd % 2 == 1:\n",
    "    print(\"입력하신 정수는 홀수 입니다.\")\n",
    "else: #else는 조건식 없음\n",
    "    print(\"입력하신 정수는 짝수 입니다.\")"
   ]
  },
  {
   "cell_type": "code",
   "execution_count": 25,
   "id": "0999173a",
   "metadata": {},
   "outputs": [
    {
     "name": "stdout",
     "output_type": "stream",
     "text": [
      "주민번호를 입력해주세요 >8803141134567\n",
      "남성입니다.\n"
     ]
    }
   ],
   "source": [
    "#13자리의 숫자 중 7번째 숫자를 확인하여 주민번호 주인의 성별을 알아내자\n",
    "\n",
    "pNum = input(\"주민번호를 입력해주세요 >\")\n",
    "\n",
    "check = int(pNum[7])\n",
    "\n",
    "if check % 2 ==0: #짝수라면\n",
    "    print(\"여성입니다.\")\n",
    "else: #짝수가 아니라면 = 홀수라면\n",
    "    print(\"남성입니다.\")"
   ]
  },
  {
   "cell_type": "code",
   "execution_count": 29,
   "id": "d9f9b0a8",
   "metadata": {},
   "outputs": [
    {
     "name": "stdout",
     "output_type": "stream",
     "text": [
      "점심 메뉴를 골라주세요.(제육덮밥, 돈까스, 김밥) >김밥\n",
      "김밥을 먹는다.\n"
     ]
    }
   ],
   "source": [
    "#elif문: 조건이 참과 거짓 이외에 더 많은 조건을 가지고 있을 경우에 사용\n",
    "    #자바의 elseif와 같음(줄임말임)\n",
    "    \n",
    "lunch = input(\"점심 메뉴를 골라주세요.(제육덮밥, 돈까스, 김밥) >\")\n",
    "\n",
    "if lunch == \"제육덮밥\":\n",
    "    print(\"제육덮밥을 먹는다.\")\n",
    "elif lunch == \"돈까스\":\n",
    "    print(\"돈까스를 먹는다.\")\n",
    "elif lunch == \"김밥\":\n",
    "    print(\"김밥을 먹는다.\")        \n",
    "else:\n",
    "    print(\"점심을 굶는다.\")"
   ]
  },
  {
   "cell_type": "code",
   "execution_count": 31,
   "id": "46c14a1c",
   "metadata": {},
   "outputs": [
    {
     "name": "stdout",
     "output_type": "stream",
     "text": [
      "90보다 작고 80보다 큰 수 입니다.\n"
     ]
    }
   ],
   "source": [
    "number = 85\n",
    "\n",
    "if number > 90:\n",
    "    print(\"90보다 큰 수 입니다.\")\n",
    "elif number > 80:\n",
    "    print(\"90보다 작고 80보다 큰 수 입니다.\")\n",
    "elif number > 50:\n",
    "    print(\"80보다 작고 50보다 큰 수 입니다.\")\n",
    "else:\n",
    "    print(\"50보다 작은 수 입니다.\")\n",
    "    \n",
    "#조건식의 위아래 순서를 바꾸지 않고 정렬할 수 있도록 해야한다."
   ]
  },
  {
   "cell_type": "code",
   "execution_count": 39,
   "id": "ce2234d3",
   "metadata": {},
   "outputs": [
    {
     "name": "stdout",
     "output_type": "stream",
     "text": [
      "정수를 입력해주세요 >3\n",
      "짝수가 아닙니다.\n"
     ]
    }
   ],
   "source": [
    "#and, or 연산을 잘 사용하면 if문 여러 조건을 동시에 판별 가능하다.\n",
    "\n",
    "# 3의 배수이면서 짝수인 수를 판별해주는 조건식을 만들어보자.\n",
    "chk = int(input(\"정수를 입력해주세요 >\"))\n",
    "\n",
    "if chk % 3 ==0 and chk %2 == 0:\n",
    "    print(\"3의 배수이면서 짝수입니다.\")\n",
    "elif chk %3 != 0:\n",
    "    print(\"3의 배수가 아닙니다.\")\n",
    "else:\n",
    "    print(\"짝수가 아닙니다.\")"
   ]
  },
  {
   "cell_type": "code",
   "execution_count": 47,
   "id": "e3b2817b",
   "metadata": {},
   "outputs": [
    {
     "name": "stdout",
     "output_type": "stream",
     "text": [
      "정수를 입력해주세요 >6\n",
      "3의 배수이면서 짝수 입니다.\n"
     ]
    }
   ],
   "source": [
    "chk = int(input(\"정수를 입력해주세요 >\"))\n",
    "\n",
    "if chk % 3 ==0 or chk %2 == 0:\n",
    "    if chk %3 ==0 and chk %2 != 0:\n",
    "        print(\"3의 배수 입니다.\")\n",
    "    elif chk % 3 ==0 or chk %2 == 0:\n",
    "        print(\"3의 배수이면서 짝수 입니다.\")\n",
    "    else:\n",
    "        print(\"짝수 입니다.\")\n",
    "else:\n",
    "    print(\"3의 배수도 짝수도 아닙니다.\")"
   ]
  },
  {
   "cell_type": "code",
   "execution_count": 56,
   "id": "cd3aead6",
   "metadata": {},
   "outputs": [
    {
     "name": "stdout",
     "output_type": "stream",
     "text": [
      "웹사이트 주소를 입력해주세요 >www.google.com\n",
      "기업\n"
     ]
    }
   ],
   "source": [
    "#if문 Quiz\n",
    "    #웹사이트 주소를 입력해주세요 > 웹사이트 주소 마지막 문자에 의해 어느 나라 혹은 용도 및 기관의 웹사이트인지 알 수 있도록 해보자.\n",
    "    \n",
    "domain = input(\"웹사이트 주소를 입력해주세요 >\")\n",
    "\n",
    "nation = domain.split(\".\") #점을 기준으로 split해준다.\n",
    "\n",
    "if nation[-1] == \"kr\":\n",
    "    print(\"한국\")\n",
    "elif nation[-1] == \"uk\":\n",
    "    print(\"영국\")\n",
    "elif nation[-1] == \"com\":\n",
    "    print(\"기업\")\n",
    "elif nation[-1] == \"org\":\n",
    "    print(\"기관\")\n",
    "else:\n",
    "    print(\"알 수 없음\")"
   ]
  },
  {
   "cell_type": "code",
   "execution_count": null,
   "id": "bc6edd5c",
   "metadata": {},
   "outputs": [],
   "source": []
  },
  {
   "cell_type": "code",
   "execution_count": null,
   "id": "251a15ec",
   "metadata": {},
   "outputs": [],
   "source": []
  }
 ],
 "metadata": {
  "kernelspec": {
   "display_name": "Python 3 (ipykernel)",
   "language": "python",
   "name": "python3"
  },
  "language_info": {
   "codemirror_mode": {
    "name": "ipython",
    "version": 3
   },
   "file_extension": ".py",
   "mimetype": "text/x-python",
   "name": "python",
   "nbconvert_exporter": "python",
   "pygments_lexer": "ipython3",
   "version": "3.9.12"
  }
 },
 "nbformat": 4,
 "nbformat_minor": 5
}
